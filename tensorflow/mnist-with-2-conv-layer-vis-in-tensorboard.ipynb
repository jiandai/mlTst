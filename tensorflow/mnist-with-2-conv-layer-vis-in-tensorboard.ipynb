{
 "cells": [
  {
   "cell_type": "markdown",
   "metadata": {},
   "source": [
    "## Use Tensorboard to plot training and validation loss\n",
    "\n",
    "#### Goal\n",
    "- Build a 2-convolutional-layered classifier\n",
    "- Visualize the graph\n",
    "- Visualize training and validation loss"
   ]
  },
  {
   "cell_type": "code",
   "execution_count": 1,
   "metadata": {
    "collapsed": true
   },
   "outputs": [],
   "source": [
    "import tensorflow as tf"
   ]
  },
  {
   "cell_type": "markdown",
   "metadata": {},
   "source": [
    "## Build the graph"
   ]
  },
  {
   "cell_type": "code",
   "execution_count": 2,
   "metadata": {
    "collapsed": true
   },
   "outputs": [],
   "source": [
    "with tf.name_scope('Input_'):\n",
    "    x = tf.placeholder(tf.float32, shape=[None, 784],name='X0')\n",
    "    x_image = tf.reshape(x, [-1,28,28,1],name='X_img')\n",
    "    y = tf.placeholder(tf.float32, shape=[None, 10],name='Labels')"
   ]
  },
  {
   "cell_type": "code",
   "execution_count": 3,
   "metadata": {
    "collapsed": true
   },
   "outputs": [],
   "source": [
    "with tf.name_scope('Weight_'):\n",
    "    W1 = tf.Variable(tf.truncated_normal([5,5,1,32], stddev=0.1),name='ConvK1')\n",
    "    W2 = tf.Variable(tf.truncated_normal([5,5,32,64], stddev=0.1),name='ConvK2')\n",
    "    W_f = tf.Variable(tf.truncated_normal([7*7*64,1024], stddev=0.1),name='Wf1')\n",
    "    W_f2 = tf.Variable(tf.truncated_normal([1024,10], stddev=0.1),name='Wf2')\n"
   ]
  },
  {
   "cell_type": "code",
   "execution_count": 4,
   "metadata": {
    "collapsed": true
   },
   "outputs": [],
   "source": [
    "with tf.name_scope('Bias_'):\n",
    "    b = tf.Variable(tf.constant(0.1, shape=[32]),name='ConvB1')\n",
    "    b2 = tf.Variable(tf.constant(0.1, shape=[64]),name='ConvB2')\n",
    "    b_f = tf.Variable(tf.constant(0.1, shape=[1024]),name='Bf1')\n",
    "    b_f2 = tf.Variable(tf.constant(0.1, shape=[10]),name='Bf2')"
   ]
  },
  {
   "cell_type": "code",
   "execution_count": 5,
   "metadata": {
    "collapsed": false
   },
   "outputs": [],
   "source": [
    "conv = tf.nn.conv2d(x_image, W1,strides=[1,1,1,1], padding='SAME',name='ConvFltr1')\n",
    "conv1 = tf.nn.relu(conv+b,name='ReLU1')\n",
    "conv_p = tf.nn.max_pool(conv1, ksize=[1, 2, 2, 1],strides=[1, 2, 2, 1], padding='SAME',name='Pool1')\n",
    "conv_ = tf.nn.conv2d(conv_p, W2,strides=[1,1,1,1], padding='SAME',name='ConvFltr2')\n",
    "conv2 = tf.nn.relu(conv_+b2,name='ReLU2')\n",
    "conv_p2 = tf.nn.max_pool(conv2, ksize=[1, 2, 2, 1],strides=[1, 2, 2, 1], padding='SAME',name='Pool2')"
   ]
  },
  {
   "cell_type": "code",
   "execution_count": 6,
   "metadata": {
    "collapsed": false
   },
   "outputs": [],
   "source": [
    "h_p = tf.reshape(conv_p2,[-1,7*7*64],name='Flattend')\n",
    "h_f = tf.nn.relu(tf.add(tf.matmul(h_p,W_f),b_f),name='ReLU3')"
   ]
  },
  {
   "cell_type": "code",
   "execution_count": 7,
   "metadata": {
    "collapsed": true
   },
   "outputs": [],
   "source": [
    "yhat = tf.add(tf.matmul(h_f,W_f2),b_f2,name='Logits')\n",
    "cross_entropy = tf.reduce_mean(tf.nn.softmax_cross_entropy_with_logits(labels=y, logits=yhat),name='Loss')"
   ]
  },
  {
   "cell_type": "code",
   "execution_count": 8,
   "metadata": {
    "collapsed": false
   },
   "outputs": [],
   "source": [
    "train_step = tf.train.AdamOptimizer(1e-4).minimize(cross_entropy)"
   ]
  },
  {
   "cell_type": "markdown",
   "metadata": {},
   "source": [
    "#### Add the summary for tensorboard"
   ]
  },
  {
   "cell_type": "code",
   "execution_count": 9,
   "metadata": {
    "collapsed": false
   },
   "outputs": [],
   "source": [
    "loss_summary = tf.summary.scalar('XEntropy', cross_entropy)\n",
    "#merged = tf.summary.merge_all()\n",
    "train_writer = tf.summary.FileWriter('tmp/train', tf.get_default_graph())\n",
    "validation_writer = tf.summary.FileWriter('tmp/validation')"
   ]
  },
  {
   "cell_type": "markdown",
   "metadata": {},
   "source": [
    "### Read in data"
   ]
  },
  {
   "cell_type": "code",
   "execution_count": 10,
   "metadata": {
    "collapsed": false
   },
   "outputs": [
    {
     "name": "stdout",
     "output_type": "stream",
     "text": [
      "Extracting C:\\gitLocal\\ML\\tensorflow\\MNIST_data\\train-images-idx3-ubyte.gz\n",
      "Extracting C:\\gitLocal\\ML\\tensorflow\\MNIST_data\\train-labels-idx1-ubyte.gz\n",
      "Extracting C:\\gitLocal\\ML\\tensorflow\\MNIST_data\\t10k-images-idx3-ubyte.gz\n",
      "Extracting C:\\gitLocal\\ML\\tensorflow\\MNIST_data\\t10k-labels-idx1-ubyte.gz\n"
     ]
    }
   ],
   "source": [
    "from tensorflow.contrib.learn.python.learn.datasets.mnist import read_data_sets\n",
    "''' local MNIST data repos:\n",
    "C:\\\\gitLocal\\\\ML\\\\data\\\\MNIST_data\n",
    "C:\\\\Users\\\\daij12\\\\MNIST_data\n",
    "'''\n",
    "mnist_dir = 'C:\\\\gitLocal\\\\ML\\\\tensorflow\\\\MNIST_data'\n",
    "mnist_data = read_data_sets(train_dir=mnist_dir,one_hot=True)"
   ]
  },
  {
   "cell_type": "markdown",
   "metadata": {},
   "source": [
    "### Run the graph"
   ]
  },
  {
   "cell_type": "code",
   "execution_count": 11,
   "metadata": {
    "collapsed": false
   },
   "outputs": [],
   "source": [
    "sess = tf.InteractiveSession()"
   ]
  },
  {
   "cell_type": "code",
   "execution_count": 12,
   "metadata": {
    "collapsed": false
   },
   "outputs": [],
   "source": [
    "sess.run(tf.global_variables_initializer())"
   ]
  },
  {
   "cell_type": "code",
   "execution_count": 13,
   "metadata": {
    "collapsed": false
   },
   "outputs": [],
   "source": [
    "for b in range(1000):\n",
    "    btch_x, btch_y = mnist_data.train.next_batch(50)\n",
    "    train_step.run(feed_dict={x:btch_x,y:btch_y})\n",
    "    if b % 5==0:\n",
    "        _,summary = sess.run([cross_entropy,loss_summary],feed_dict={x:btch_x,y:btch_y})\n",
    "        train_writer.add_summary(summary, b)\n",
    "        btch_x, btch_y = mnist_data.validation.next_batch(50)\n",
    "        _,summary = sess.run([cross_entropy,loss_summary],feed_dict={x:btch_x,y:btch_y})\n",
    "        validation_writer.add_summary(summary, b)"
   ]
  },
  {
   "cell_type": "markdown",
   "metadata": {},
   "source": [
    "#### The visual in tensorboard"
   ]
  },
  {
   "cell_type": "markdown",
   "metadata": {},
   "source": [
    "![training_error and validation_error](./graph-X2.PNG)"
   ]
  }
 ],
 "metadata": {
  "anaconda-cloud": {},
  "kernelspec": {
   "display_name": "Python [default]",
   "language": "python",
   "name": "python3"
  },
  "language_info": {
   "codemirror_mode": {
    "name": "ipython",
    "version": 3
   },
   "file_extension": ".py",
   "mimetype": "text/x-python",
   "name": "python",
   "nbconvert_exporter": "python",
   "pygments_lexer": "ipython3",
   "version": "3.5.2"
  }
 },
 "nbformat": 4,
 "nbformat_minor": 1
}
