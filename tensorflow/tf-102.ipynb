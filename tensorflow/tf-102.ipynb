{
 "cells": [
  {
   "cell_type": "markdown",
   "metadata": {},
   "source": [
    "## More on tensorflow"
   ]
  },
  {
   "cell_type": "code",
   "execution_count": 1,
   "metadata": {
    "collapsed": true
   },
   "outputs": [],
   "source": [
    "from tensorflow.contrib.learn.python.learn.datasets.mnist import read_data_sets"
   ]
  },
  {
   "cell_type": "code",
   "execution_count": 2,
   "metadata": {
    "collapsed": false
   },
   "outputs": [
    {
     "name": "stdout",
     "output_type": "stream",
     "text": [
      "Extracting C:\\gitLocal\\ML\\tensorflow\\MNIST_data\\train-images-idx3-ubyte.gz\n",
      "Extracting C:\\gitLocal\\ML\\tensorflow\\MNIST_data\\train-labels-idx1-ubyte.gz\n",
      "Extracting C:\\gitLocal\\ML\\tensorflow\\MNIST_data\\t10k-images-idx3-ubyte.gz\n",
      "Extracting C:\\gitLocal\\ML\\tensorflow\\MNIST_data\\t10k-labels-idx1-ubyte.gz\n"
     ]
    }
   ],
   "source": [
    "''' local MNIST data repos:\n",
    "C:\\\\gitLocal\\\\ML\\\\data\\\\MNIST_data\n",
    "C:\\\\Users\\\\daij12\\\\MNIST_data\n",
    "'''\n",
    "mnist_dir = 'C:\\\\gitLocal\\\\ML\\\\tensorflow\\\\MNIST_data'\n",
    "mnist_data = read_data_sets(train_dir=mnist_dir,one_hot=True)"
   ]
  },
  {
   "cell_type": "code",
   "execution_count": 3,
   "metadata": {
    "collapsed": false
   },
   "outputs": [
    {
     "data": {
      "text/plain": [
       "(55000, 10000, 5000)"
      ]
     },
     "execution_count": 3,
     "metadata": {},
     "output_type": "execute_result"
    }
   ],
   "source": [
    "mnist_data.train.num_examples, mnist_data.test.num_examples, mnist_data.validation.num_examples"
   ]
  },
  {
   "cell_type": "code",
   "execution_count": 4,
   "metadata": {
    "collapsed": false
   },
   "outputs": [
    {
     "data": {
      "text/plain": [
       "(55000, 784)"
      ]
     },
     "execution_count": 4,
     "metadata": {},
     "output_type": "execute_result"
    }
   ],
   "source": [
    "mnist_data.train.images.shape"
   ]
  },
  {
   "cell_type": "code",
   "execution_count": 5,
   "metadata": {
    "collapsed": false
   },
   "outputs": [
    {
     "data": {
      "text/plain": [
       "array([[ 0.        ,  0.        ,  0.        ,  0.        ,  0.        ,\n",
       "         0.        ,  0.        ,  0.        ,  0.        ,  0.        ,\n",
       "         0.        ,  0.        ,  0.        ,  0.        ,  0.        ,\n",
       "         0.        ,  0.        ,  0.        ,  0.        ,  0.        ,\n",
       "         0.        ,  0.        ,  0.        ,  0.        ,  0.        ,\n",
       "         0.        ,  0.        ,  0.        ],\n",
       "       [ 0.        ,  0.        ,  0.        ,  0.        ,  0.        ,\n",
       "         0.        ,  0.        ,  0.        ,  0.        ,  0.        ,\n",
       "         0.        ,  0.        ,  0.        ,  0.        ,  0.        ,\n",
       "         0.        ,  0.        ,  0.        ,  0.        ,  0.        ,\n",
       "         0.        ,  0.        ,  0.        ,  0.        ,  0.        ,\n",
       "         0.        ,  0.        ,  0.        ],\n",
       "       [ 0.        ,  0.        ,  0.        ,  0.        ,  0.        ,\n",
       "         0.        ,  0.        ,  0.        ,  0.        ,  0.        ,\n",
       "         0.        ,  0.        ,  0.        ,  0.        ,  0.        ,\n",
       "         0.        ,  0.        ,  0.        ,  0.        ,  0.        ,\n",
       "         0.        ,  0.        ,  0.        ,  0.        ,  0.        ,\n",
       "         0.        ,  0.        ,  0.        ],\n",
       "       [ 0.        ,  0.        ,  0.        ,  0.        ,  0.        ,\n",
       "         0.        ,  0.        ,  0.        ,  0.        ,  0.        ,\n",
       "         0.        ,  0.        ,  0.        ,  0.        ,  0.        ,\n",
       "         0.        ,  0.        ,  0.        ,  0.        ,  0.        ,\n",
       "         0.        ,  0.        ,  0.        ,  0.        ,  0.        ,\n",
       "         0.        ,  0.        ,  0.        ],\n",
       "       [ 0.        ,  0.        ,  0.        ,  0.        ,  0.        ,\n",
       "         0.        ,  0.        ,  0.        ,  0.        ,  0.        ,\n",
       "         0.        ,  0.        ,  0.        ,  0.        ,  0.        ,\n",
       "         0.        ,  0.        ,  0.        ,  0.        ,  0.        ,\n",
       "         0.        ,  0.        ,  0.        ,  0.        ,  0.        ,\n",
       "         0.        ,  0.        ,  0.        ],\n",
       "       [ 0.        ,  0.        ,  0.        ,  0.        ,  0.        ,\n",
       "         0.        ,  0.        ,  0.        ,  0.        ,  0.        ,\n",
       "         0.        ,  0.        ,  0.        ,  0.        ,  0.        ,\n",
       "         0.        ,  0.        ,  0.        ,  0.        ,  0.        ,\n",
       "         0.        ,  0.        ,  0.        ,  0.        ,  0.        ,\n",
       "         0.        ,  0.        ,  0.        ],\n",
       "       [ 0.        ,  0.        ,  0.        ,  0.        ,  0.        ,\n",
       "         0.        ,  0.        ,  0.        ,  0.        ,  0.        ,\n",
       "         0.        ,  0.        ,  0.        ,  0.        ,  0.        ,\n",
       "         0.        ,  0.        ,  0.        ,  0.        ,  0.        ,\n",
       "         0.        ,  0.        ,  0.        ,  0.        ,  0.        ,\n",
       "         0.        ,  0.        ,  0.        ],\n",
       "       [ 0.        ,  0.        ,  0.        ,  0.        ,  0.        ,\n",
       "         0.        ,  0.        ,  0.        ,  0.        ,  0.        ,\n",
       "         0.        ,  0.38039219,  0.37647063,  0.3019608 ,  0.46274513,\n",
       "         0.2392157 ,  0.        ,  0.        ,  0.        ,  0.        ,\n",
       "         0.        ,  0.        ,  0.        ,  0.        ,  0.        ,\n",
       "         0.        ,  0.        ,  0.        ],\n",
       "       [ 0.        ,  0.        ,  0.        ,  0.35294119,  0.5411765 ,\n",
       "         0.92156869,  0.92156869,  0.92156869,  0.92156869,  0.92156869,\n",
       "         0.92156869,  0.98431379,  0.98431379,  0.97254908,  0.99607849,\n",
       "         0.96078438,  0.92156869,  0.74509805,  0.08235294,  0.        ,\n",
       "         0.        ,  0.        ,  0.        ,  0.        ,  0.        ,\n",
       "         0.        ,  0.        ,  0.        ],\n",
       "       [ 0.        ,  0.        ,  0.54901963,  0.98431379,  0.99607849,\n",
       "         0.99607849,  0.99607849,  0.99607849,  0.99607849,  0.99607849,\n",
       "         0.99607849,  0.99607849,  0.99607849,  0.99607849,  0.99607849,\n",
       "         0.99607849,  0.99607849,  0.99607849,  0.74117649,  0.09019608,\n",
       "         0.        ,  0.        ,  0.        ,  0.        ,  0.        ,\n",
       "         0.        ,  0.        ,  0.        ],\n",
       "       [ 0.        ,  0.        ,  0.88627458,  0.99607849,  0.81568635,\n",
       "         0.78039223,  0.78039223,  0.78039223,  0.78039223,  0.54509807,\n",
       "         0.2392157 ,  0.2392157 ,  0.2392157 ,  0.2392157 ,  0.2392157 ,\n",
       "         0.50196081,  0.8705883 ,  0.99607849,  0.99607849,  0.74117649,\n",
       "         0.08235294,  0.        ,  0.        ,  0.        ,  0.        ,\n",
       "         0.        ,  0.        ,  0.        ],\n",
       "       [ 0.        ,  0.        ,  0.14901961,  0.32156864,  0.0509804 ,\n",
       "         0.        ,  0.        ,  0.        ,  0.        ,  0.        ,\n",
       "         0.        ,  0.        ,  0.        ,  0.        ,  0.        ,\n",
       "         0.        ,  0.13333334,  0.83529419,  0.99607849,  0.99607849,\n",
       "         0.45098042,  0.        ,  0.        ,  0.        ,  0.        ,\n",
       "         0.        ,  0.        ,  0.        ],\n",
       "       [ 0.        ,  0.        ,  0.        ,  0.        ,  0.        ,\n",
       "         0.        ,  0.        ,  0.        ,  0.        ,  0.        ,\n",
       "         0.        ,  0.        ,  0.        ,  0.        ,  0.        ,\n",
       "         0.        ,  0.        ,  0.32941177,  0.99607849,  0.99607849,\n",
       "         0.91764712,  0.        ,  0.        ,  0.        ,  0.        ,\n",
       "         0.        ,  0.        ,  0.        ],\n",
       "       [ 0.        ,  0.        ,  0.        ,  0.        ,  0.        ,\n",
       "         0.        ,  0.        ,  0.        ,  0.        ,  0.        ,\n",
       "         0.        ,  0.        ,  0.        ,  0.        ,  0.        ,\n",
       "         0.        ,  0.        ,  0.32941177,  0.99607849,  0.99607849,\n",
       "         0.91764712,  0.        ,  0.        ,  0.        ,  0.        ,\n",
       "         0.        ,  0.        ,  0.        ],\n",
       "       [ 0.        ,  0.        ,  0.        ,  0.        ,  0.        ,\n",
       "         0.        ,  0.        ,  0.        ,  0.        ,  0.        ,\n",
       "         0.        ,  0.        ,  0.        ,  0.        ,  0.        ,\n",
       "         0.        ,  0.41568631,  0.6156863 ,  0.99607849,  0.99607849,\n",
       "         0.95294124,  0.20000002,  0.        ,  0.        ,  0.        ,\n",
       "         0.        ,  0.        ,  0.        ],\n",
       "       [ 0.        ,  0.        ,  0.        ,  0.        ,  0.        ,\n",
       "         0.        ,  0.        ,  0.        ,  0.        ,  0.        ,\n",
       "         0.        ,  0.09803922,  0.45882356,  0.89411771,  0.89411771,\n",
       "         0.89411771,  0.99215692,  0.99607849,  0.99607849,  0.99607849,\n",
       "         0.99607849,  0.94117653,  0.        ,  0.        ,  0.        ,\n",
       "         0.        ,  0.        ,  0.        ],\n",
       "       [ 0.        ,  0.        ,  0.        ,  0.        ,  0.        ,\n",
       "         0.        ,  0.        ,  0.        ,  0.        ,  0.26666668,\n",
       "         0.4666667 ,  0.86274517,  0.99607849,  0.99607849,  0.99607849,\n",
       "         0.99607849,  0.99607849,  0.99607849,  0.99607849,  0.99607849,\n",
       "         0.99607849,  0.55686277,  0.        ,  0.        ,  0.        ,\n",
       "         0.        ,  0.        ,  0.        ],\n",
       "       [ 0.        ,  0.        ,  0.        ,  0.        ,  0.        ,\n",
       "         0.        ,  0.        ,  0.14509805,  0.73333335,  0.99215692,\n",
       "         0.99607849,  0.99607849,  0.99607849,  0.87450987,  0.80784321,\n",
       "         0.80784321,  0.29411766,  0.26666668,  0.84313732,  0.99607849,\n",
       "         0.99607849,  0.45882356,  0.        ,  0.        ,  0.        ,\n",
       "         0.        ,  0.        ,  0.        ],\n",
       "       [ 0.        ,  0.        ,  0.        ,  0.        ,  0.        ,\n",
       "         0.        ,  0.44313729,  0.8588236 ,  0.99607849,  0.94901967,\n",
       "         0.89019614,  0.45098042,  0.34901962,  0.12156864,  0.        ,\n",
       "         0.        ,  0.        ,  0.        ,  0.7843138 ,  0.99607849,\n",
       "         0.9450981 ,  0.16078432,  0.        ,  0.        ,  0.        ,\n",
       "         0.        ,  0.        ,  0.        ],\n",
       "       [ 0.        ,  0.        ,  0.        ,  0.        ,  0.        ,\n",
       "         0.        ,  0.66274512,  0.99607849,  0.6901961 ,  0.24313727,\n",
       "         0.        ,  0.        ,  0.        ,  0.        ,  0.        ,\n",
       "         0.        ,  0.        ,  0.18823531,  0.90588242,  0.99607849,\n",
       "         0.91764712,  0.        ,  0.        ,  0.        ,  0.        ,\n",
       "         0.        ,  0.        ,  0.        ],\n",
       "       [ 0.        ,  0.        ,  0.        ,  0.        ,  0.        ,\n",
       "         0.        ,  0.07058824,  0.48627454,  0.        ,  0.        ,\n",
       "         0.        ,  0.        ,  0.        ,  0.        ,  0.        ,\n",
       "         0.        ,  0.        ,  0.32941177,  0.99607849,  0.99607849,\n",
       "         0.65098041,  0.        ,  0.        ,  0.        ,  0.        ,\n",
       "         0.        ,  0.        ,  0.        ],\n",
       "       [ 0.        ,  0.        ,  0.        ,  0.        ,  0.        ,\n",
       "         0.        ,  0.        ,  0.        ,  0.        ,  0.        ,\n",
       "         0.        ,  0.        ,  0.        ,  0.        ,  0.        ,\n",
       "         0.        ,  0.        ,  0.54509807,  0.99607849,  0.9333334 ,\n",
       "         0.22352943,  0.        ,  0.        ,  0.        ,  0.        ,\n",
       "         0.        ,  0.        ,  0.        ],\n",
       "       [ 0.        ,  0.        ,  0.        ,  0.        ,  0.        ,\n",
       "         0.        ,  0.        ,  0.        ,  0.        ,  0.        ,\n",
       "         0.        ,  0.        ,  0.        ,  0.        ,  0.        ,\n",
       "         0.        ,  0.82352948,  0.98039222,  0.99607849,  0.65882355,\n",
       "         0.        ,  0.        ,  0.        ,  0.        ,  0.        ,\n",
       "         0.        ,  0.        ,  0.        ],\n",
       "       [ 0.        ,  0.        ,  0.        ,  0.        ,  0.        ,\n",
       "         0.        ,  0.        ,  0.        ,  0.        ,  0.        ,\n",
       "         0.        ,  0.        ,  0.        ,  0.        ,  0.        ,\n",
       "         0.        ,  0.94901967,  0.99607849,  0.93725497,  0.22352943,\n",
       "         0.        ,  0.        ,  0.        ,  0.        ,  0.        ,\n",
       "         0.        ,  0.        ,  0.        ],\n",
       "       [ 0.        ,  0.        ,  0.        ,  0.        ,  0.        ,\n",
       "         0.        ,  0.        ,  0.        ,  0.        ,  0.        ,\n",
       "         0.        ,  0.        ,  0.        ,  0.        ,  0.        ,\n",
       "         0.34901962,  0.98431379,  0.9450981 ,  0.33725491,  0.        ,\n",
       "         0.        ,  0.        ,  0.        ,  0.        ,  0.        ,\n",
       "         0.        ,  0.        ,  0.        ],\n",
       "       [ 0.        ,  0.        ,  0.        ,  0.        ,  0.        ,\n",
       "         0.        ,  0.        ,  0.        ,  0.        ,  0.        ,\n",
       "         0.        ,  0.        ,  0.        ,  0.        ,  0.01960784,\n",
       "         0.80784321,  0.96470594,  0.6156863 ,  0.        ,  0.        ,\n",
       "         0.        ,  0.        ,  0.        ,  0.        ,  0.        ,\n",
       "         0.        ,  0.        ,  0.        ],\n",
       "       [ 0.        ,  0.        ,  0.        ,  0.        ,  0.        ,\n",
       "         0.        ,  0.        ,  0.        ,  0.        ,  0.        ,\n",
       "         0.        ,  0.        ,  0.        ,  0.        ,  0.01568628,\n",
       "         0.45882356,  0.27058825,  0.        ,  0.        ,  0.        ,\n",
       "         0.        ,  0.        ,  0.        ,  0.        ,  0.        ,\n",
       "         0.        ,  0.        ,  0.        ],\n",
       "       [ 0.        ,  0.        ,  0.        ,  0.        ,  0.        ,\n",
       "         0.        ,  0.        ,  0.        ,  0.        ,  0.        ,\n",
       "         0.        ,  0.        ,  0.        ,  0.        ,  0.        ,\n",
       "         0.        ,  0.        ,  0.        ,  0.        ,  0.        ,\n",
       "         0.        ,  0.        ,  0.        ,  0.        ,  0.        ,\n",
       "         0.        ,  0.        ,  0.        ]], dtype=float32)"
      ]
     },
     "execution_count": 5,
     "metadata": {},
     "output_type": "execute_result"
    }
   ],
   "source": [
    "mnist_data.train.images[0].reshape(28,28)"
   ]
  },
  {
   "cell_type": "code",
   "execution_count": 6,
   "metadata": {
    "collapsed": true
   },
   "outputs": [],
   "source": [
    "import matplotlib.pyplot as plt"
   ]
  },
  {
   "cell_type": "code",
   "execution_count": 7,
   "metadata": {
    "collapsed": false
   },
   "outputs": [
    {
     "data": {
      "image/png": "[encoded data removed]",
      "text/plain": [
       "<matplotlib.figure.Figure at 0xec9e2e8>"
      ]
     },
     "metadata": {},
     "output_type": "display_data"
    }
   ],
   "source": [
    "plt.imshow(mnist_data.train.images[3].reshape(28,28));plt.show()"
   ]
  },
  {
   "cell_type": "code",
   "execution_count": 8,
   "metadata": {
    "collapsed": false
   },
   "outputs": [
    {
     "data": {
      "text/plain": [
       "array([ 0.,  0.,  0.,  0.,  0.,  0.,  1.,  0.,  0.,  0.])"
      ]
     },
     "execution_count": 8,
     "metadata": {},
     "output_type": "execute_result"
    }
   ],
   "source": [
    "mnist_data.train.labels[3]"
   ]
  },
  {
   "cell_type": "code",
   "execution_count": 9,
   "metadata": {
    "collapsed": false
   },
   "outputs": [
    {
     "data": {
      "text/plain": [
       "(array([[ 0.,  0.,  0., ...,  0.,  0.,  0.],\n",
       "        [ 0.,  0.,  0., ...,  0.,  0.,  0.],\n",
       "        [ 0.,  0.,  0., ...,  0.,  0.,  0.]], dtype=float32),\n",
       " array([[ 0.,  0.,  0.,  0.,  0.,  0.,  0.,  1.,  0.,  0.],\n",
       "        [ 0.,  0.,  0.,  1.,  0.,  0.,  0.,  0.,  0.,  0.],\n",
       "        [ 0.,  0.,  0.,  0.,  1.,  0.,  0.,  0.,  0.,  0.]]))"
      ]
     },
     "execution_count": 9,
     "metadata": {},
     "output_type": "execute_result"
    }
   ],
   "source": [
    "mnist_data.train.next_batch(3)"
   ]
  },
  {
   "cell_type": "code",
   "execution_count": 10,
   "metadata": {
    "collapsed": true
   },
   "outputs": [],
   "source": [
    "import tensorflow as tf"
   ]
  },
  {
   "cell_type": "code",
   "execution_count": 11,
   "metadata": {
    "collapsed": false
   },
   "outputs": [],
   "source": [
    "sess = tf.InteractiveSession()"
   ]
  },
  {
   "cell_type": "code",
   "execution_count": 12,
   "metadata": {
    "collapsed": false
   },
   "outputs": [
    {
     "data": {
      "text/plain": [
       "array([[-0.0356777 , -0.02805187],\n",
       "       [-0.01335227, -0.00407047]], dtype=float32)"
      ]
     },
     "execution_count": 12,
     "metadata": {},
     "output_type": "execute_result"
    }
   ],
   "source": [
    "sess.run(tf.truncated_normal([2,2],stddev=.1))"
   ]
  },
  {
   "cell_type": "code",
   "execution_count": 13,
   "metadata": {
    "collapsed": true
   },
   "outputs": [],
   "source": [
    "# Build the graph\n",
    "x = tf.placeholder(tf.float32, shape=[None, 784])\n",
    "x_image = tf.reshape(x, [-1,28,28,1])"
   ]
  },
  {
   "cell_type": "code",
   "execution_count": 14,
   "metadata": {
    "collapsed": true
   },
   "outputs": [],
   "source": [
    "\n",
    "W1 = tf.Variable(tf.truncated_normal([5,5,1,32], stddev=0.1))"
   ]
  },
  {
   "cell_type": "code",
   "execution_count": 15,
   "metadata": {
    "collapsed": false
   },
   "outputs": [],
   "source": [
    "conv = tf.nn.conv2d(x_image, W1,strides=[1,1,1,1], padding='SAME')"
   ]
  },
  {
   "cell_type": "code",
   "execution_count": 16,
   "metadata": {
    "collapsed": true
   },
   "outputs": [],
   "source": [
    "b = tf.Variable(tf.constant(0.1, shape=[32]))"
   ]
  },
  {
   "cell_type": "code",
   "execution_count": 17,
   "metadata": {
    "collapsed": false
   },
   "outputs": [],
   "source": [
    "conv1 = tf.nn.relu(conv+b)"
   ]
  },
  {
   "cell_type": "code",
   "execution_count": 18,
   "metadata": {
    "collapsed": true
   },
   "outputs": [],
   "source": [
    "W2 = tf.Variable(tf.truncated_normal([5,5,32,64], stddev=0.1))\n",
    "b2 = tf.Variable(tf.constant(0.1, shape=[64]))"
   ]
  },
  {
   "cell_type": "code",
   "execution_count": 19,
   "metadata": {
    "collapsed": true
   },
   "outputs": [],
   "source": [
    "W_f = tf.Variable(tf.truncated_normal([7*7*64,1024], stddev=0.1))\n",
    "b_f = tf.Variable(tf.constant(0.1, shape=[1024]))"
   ]
  },
  {
   "cell_type": "code",
   "execution_count": 20,
   "metadata": {
    "collapsed": true
   },
   "outputs": [],
   "source": [
    "W_f2 = tf.Variable(tf.truncated_normal([1024,10], stddev=0.1))\n",
    "b_f2 = tf.Variable(tf.constant(0.1, shape=[10]))"
   ]
  },
  {
   "cell_type": "code",
   "execution_count": 21,
   "metadata": {
    "collapsed": true
   },
   "outputs": [],
   "source": [
    "conv_p = tf.nn.max_pool(conv1, ksize=[1, 2, 2, 1],strides=[1, 2, 2, 1], padding='SAME')"
   ]
  },
  {
   "cell_type": "code",
   "execution_count": 22,
   "metadata": {
    "collapsed": true
   },
   "outputs": [],
   "source": [
    "conv_ = tf.nn.conv2d(conv_p, W2,strides=[1,1,1,1], padding='SAME')\n",
    "conv2 = tf.nn.relu(conv_+b2)\n",
    "conv_p2 = tf.nn.max_pool(conv2, ksize=[1, 2, 2, 1],strides=[1, 2, 2, 1], padding='SAME')"
   ]
  },
  {
   "cell_type": "code",
   "execution_count": 23,
   "metadata": {
    "collapsed": false
   },
   "outputs": [],
   "source": [
    "h_p = tf.reshape(conv_p2,[-1,7*7*64])\n",
    "h_f = tf.nn.relu(tf.add(tf.matmul(h_p,W_f),b_f))"
   ]
  },
  {
   "cell_type": "code",
   "execution_count": 24,
   "metadata": {
    "collapsed": true
   },
   "outputs": [],
   "source": [
    "yhat = tf.add(tf.matmul(h_f,W_f2),b_f2)"
   ]
  },
  {
   "cell_type": "code",
   "execution_count": 25,
   "metadata": {
    "collapsed": true
   },
   "outputs": [],
   "source": [
    "y = tf.placeholder(tf.float32, shape=[None, 10])\n",
    "cross_entropy = tf.reduce_mean(tf.nn.softmax_cross_entropy_with_logits(labels=y, logits=yhat))"
   ]
  },
  {
   "cell_type": "code",
   "execution_count": 26,
   "metadata": {
    "collapsed": false
   },
   "outputs": [],
   "source": [
    "train_step = tf.train.AdamOptimizer(1e-4).minimize(cross_entropy)"
   ]
  },
  {
   "cell_type": "code",
   "execution_count": 27,
   "metadata": {
    "collapsed": false
   },
   "outputs": [],
   "source": [
    "sess.run(tf.global_variables_initializer())"
   ]
  },
  {
   "cell_type": "code",
   "execution_count": 29,
   "metadata": {
    "collapsed": false
   },
   "outputs": [],
   "source": [
    "for b in range(20):\n",
    "    btch_x, btch_y = mnist_data.train.next_batch(10)\n",
    "    train_step.run(feed_dict={x:btch_x,y:btch_y})"
   ]
  },
  {
   "cell_type": "code",
   "execution_count": 30,
   "metadata": {
    "collapsed": false
   },
   "outputs": [
    {
     "data": {
      "text/plain": [
       "[array([[[[ 0.,  0.,  0., ...,  0.,  0.,  0.],\n",
       "          [ 0.,  0.,  0., ...,  0.,  0.,  0.],\n",
       "          [ 0.,  0.,  0., ...,  0.,  0.,  0.],\n",
       "          ..., \n",
       "          [ 0.,  0.,  0., ...,  0.,  0.,  0.],\n",
       "          [ 0.,  0.,  0., ...,  0.,  0.,  0.],\n",
       "          [ 0.,  0.,  0., ...,  0.,  0.,  0.]],\n",
       " \n",
       "         [[ 0.,  0.,  0., ...,  0.,  0.,  0.],\n",
       "          [ 0.,  0.,  0., ...,  0.,  0.,  0.],\n",
       "          [ 0.,  0.,  0., ...,  0.,  0.,  0.],\n",
       "          ..., \n",
       "          [ 0.,  0.,  0., ...,  0.,  0.,  0.],\n",
       "          [ 0.,  0.,  0., ...,  0.,  0.,  0.],\n",
       "          [ 0.,  0.,  0., ...,  0.,  0.,  0.]],\n",
       " \n",
       "         [[ 0.,  0.,  0., ...,  0.,  0.,  0.],\n",
       "          [ 0.,  0.,  0., ...,  0.,  0.,  0.],\n",
       "          [ 0.,  0.,  0., ...,  0.,  0.,  0.],\n",
       "          ..., \n",
       "          [ 0.,  0.,  0., ...,  0.,  0.,  0.],\n",
       "          [ 0.,  0.,  0., ...,  0.,  0.,  0.],\n",
       "          [ 0.,  0.,  0., ...,  0.,  0.,  0.]],\n",
       " \n",
       "         ..., \n",
       "         [[ 0.,  0.,  0., ...,  0.,  0.,  0.],\n",
       "          [ 0.,  0.,  0., ...,  0.,  0.,  0.],\n",
       "          [ 0.,  0.,  0., ...,  0.,  0.,  0.],\n",
       "          ..., \n",
       "          [ 0.,  0.,  0., ...,  0.,  0.,  0.],\n",
       "          [ 0.,  0.,  0., ...,  0.,  0.,  0.],\n",
       "          [ 0.,  0.,  0., ...,  0.,  0.,  0.]],\n",
       " \n",
       "         [[ 0.,  0.,  0., ...,  0.,  0.,  0.],\n",
       "          [ 0.,  0.,  0., ...,  0.,  0.,  0.],\n",
       "          [ 0.,  0.,  0., ...,  0.,  0.,  0.],\n",
       "          ..., \n",
       "          [ 0.,  0.,  0., ...,  0.,  0.,  0.],\n",
       "          [ 0.,  0.,  0., ...,  0.,  0.,  0.],\n",
       "          [ 0.,  0.,  0., ...,  0.,  0.,  0.]],\n",
       " \n",
       "         [[ 0.,  0.,  0., ...,  0.,  0.,  0.],\n",
       "          [ 0.,  0.,  0., ...,  0.,  0.,  0.],\n",
       "          [ 0.,  0.,  0., ...,  0.,  0.,  0.],\n",
       "          ..., \n",
       "          [ 0.,  0.,  0., ...,  0.,  0.,  0.],\n",
       "          [ 0.,  0.,  0., ...,  0.,  0.,  0.],\n",
       "          [ 0.,  0.,  0., ...,  0.,  0.,  0.]]]], dtype=float32),\n",
       " array([[[[ 0.09939149,  0.09958259,  0.09877944, ...,  0.10080279,\n",
       "            0.09977448,  0.10075239],\n",
       "          [ 0.09939149,  0.09958259,  0.09877944, ...,  0.10080279,\n",
       "            0.09977448,  0.10075239],\n",
       "          [ 0.09939149,  0.09958259,  0.09877944, ...,  0.10080279,\n",
       "            0.09977448,  0.10075239],\n",
       "          ..., \n",
       "          [ 0.09939149,  0.09958259,  0.09877944, ...,  0.10080279,\n",
       "            0.09977448,  0.10075239],\n",
       "          [ 0.09939149,  0.09958259,  0.09877944, ...,  0.10080279,\n",
       "            0.09977448,  0.10075239],\n",
       "          [ 0.09939149,  0.09958259,  0.09877944, ...,  0.10080279,\n",
       "            0.09977448,  0.10075239]],\n",
       " \n",
       "         [[ 0.09939149,  0.09958259,  0.09877944, ...,  0.10080279,\n",
       "            0.09977448,  0.10075239],\n",
       "          [ 0.09939149,  0.09958259,  0.09877944, ...,  0.10080279,\n",
       "            0.09977448,  0.10075239],\n",
       "          [ 0.09939149,  0.09958259,  0.09877944, ...,  0.10080279,\n",
       "            0.09977448,  0.10075239],\n",
       "          ..., \n",
       "          [ 0.09939149,  0.09958259,  0.09877944, ...,  0.10080279,\n",
       "            0.09977448,  0.10075239],\n",
       "          [ 0.09939149,  0.09958259,  0.09877944, ...,  0.10080279,\n",
       "            0.09977448,  0.10075239],\n",
       "          [ 0.09939149,  0.09958259,  0.09877944, ...,  0.10080279,\n",
       "            0.09977448,  0.10075239]],\n",
       " \n",
       "         [[ 0.09939149,  0.09958259,  0.09877944, ...,  0.10080279,\n",
       "            0.09977448,  0.10075239],\n",
       "          [ 0.09939149,  0.09958259,  0.09877944, ...,  0.10080279,\n",
       "            0.09977448,  0.10075239],\n",
       "          [ 0.09939149,  0.09958259,  0.09877944, ...,  0.10080279,\n",
       "            0.09977448,  0.10075239],\n",
       "          ..., \n",
       "          [ 0.09939149,  0.09958259,  0.09877944, ...,  0.10080279,\n",
       "            0.09977448,  0.10075239],\n",
       "          [ 0.09939149,  0.09958259,  0.09877944, ...,  0.10080279,\n",
       "            0.09977448,  0.10075239],\n",
       "          [ 0.09939149,  0.09958259,  0.09877944, ...,  0.10080279,\n",
       "            0.09977448,  0.10075239]],\n",
       " \n",
       "         ..., \n",
       "         [[ 0.09939149,  0.09958259,  0.09877944, ...,  0.10080279,\n",
       "            0.09977448,  0.10075239],\n",
       "          [ 0.09939149,  0.09958259,  0.09877944, ...,  0.10080279,\n",
       "            0.09977448,  0.10075239],\n",
       "          [ 0.09939149,  0.09958259,  0.09877944, ...,  0.10080279,\n",
       "            0.09977448,  0.10075239],\n",
       "          ..., \n",
       "          [ 0.09939149,  0.09958259,  0.09877944, ...,  0.10080279,\n",
       "            0.09977448,  0.10075239],\n",
       "          [ 0.09939149,  0.09958259,  0.09877944, ...,  0.10080279,\n",
       "            0.09977448,  0.10075239],\n",
       "          [ 0.09939149,  0.09958259,  0.09877944, ...,  0.10080279,\n",
       "            0.09977448,  0.10075239]],\n",
       " \n",
       "         [[ 0.09939149,  0.09958259,  0.09877944, ...,  0.10080279,\n",
       "            0.09977448,  0.10075239],\n",
       "          [ 0.09939149,  0.09958259,  0.09877944, ...,  0.10080279,\n",
       "            0.09977448,  0.10075239],\n",
       "          [ 0.09939149,  0.09958259,  0.09877944, ...,  0.10080279,\n",
       "            0.09977448,  0.10075239],\n",
       "          ..., \n",
       "          [ 0.09939149,  0.09958259,  0.09877944, ...,  0.10080279,\n",
       "            0.09977448,  0.10075239],\n",
       "          [ 0.09939149,  0.09958259,  0.09877944, ...,  0.10080279,\n",
       "            0.09977448,  0.10075239],\n",
       "          [ 0.09939149,  0.09958259,  0.09877944, ...,  0.10080279,\n",
       "            0.09977448,  0.10075239]],\n",
       " \n",
       "         [[ 0.09939149,  0.09958259,  0.09877944, ...,  0.10080279,\n",
       "            0.09977448,  0.10075239],\n",
       "          [ 0.09939149,  0.09958259,  0.09877944, ...,  0.10080279,\n",
       "            0.09977448,  0.10075239],\n",
       "          [ 0.09939149,  0.09958259,  0.09877944, ...,  0.10080279,\n",
       "            0.09977448,  0.10075239],\n",
       "          ..., \n",
       "          [ 0.09939149,  0.09958259,  0.09877944, ...,  0.10080279,\n",
       "            0.09977448,  0.10075239],\n",
       "          [ 0.09939149,  0.09958259,  0.09877944, ...,  0.10080279,\n",
       "            0.09977448,  0.10075239],\n",
       "          [ 0.09939149,  0.09958259,  0.09877944, ...,  0.10080279,\n",
       "            0.09977448,  0.10075239]]]], dtype=float32),\n",
       " array([[[[ 0.09939149,  0.09958259,  0.09877944, ...,  0.10080279,\n",
       "            0.09977448,  0.10075239],\n",
       "          [ 0.09939149,  0.09958259,  0.09877944, ...,  0.10080279,\n",
       "            0.09977448,  0.10075239],\n",
       "          [ 0.09939149,  0.09958259,  0.09877944, ...,  0.10080279,\n",
       "            0.09977448,  0.10075239],\n",
       "          ..., \n",
       "          [ 0.09939149,  0.09958259,  0.09877944, ...,  0.10080279,\n",
       "            0.09977448,  0.10075239],\n",
       "          [ 0.09939149,  0.09958259,  0.09877944, ...,  0.10080279,\n",
       "            0.09977448,  0.10075239],\n",
       "          [ 0.09939149,  0.09958259,  0.09877944, ...,  0.10080279,\n",
       "            0.09977448,  0.10075239]],\n",
       " \n",
       "         [[ 0.09939149,  0.09958259,  0.09877944, ...,  0.10080279,\n",
       "            0.09977448,  0.10075239],\n",
       "          [ 0.09939149,  0.09958259,  0.09877944, ...,  0.10080279,\n",
       "            0.09977448,  0.10075239],\n",
       "          [ 0.09939149,  0.09958259,  0.09877944, ...,  0.10080279,\n",
       "            0.09977448,  0.10075239],\n",
       "          ..., \n",
       "          [ 0.09939149,  0.09958259,  0.09877944, ...,  0.10080279,\n",
       "            0.09977448,  0.10075239],\n",
       "          [ 0.09939149,  0.09958259,  0.09877944, ...,  0.10080279,\n",
       "            0.09977448,  0.10075239],\n",
       "          [ 0.09939149,  0.09958259,  0.09877944, ...,  0.10080279,\n",
       "            0.09977448,  0.10075239]],\n",
       " \n",
       "         [[ 0.09939149,  0.09958259,  0.09877944, ...,  0.10080279,\n",
       "            0.09977448,  0.10075239],\n",
       "          [ 0.09939149,  0.09958259,  0.09877944, ...,  0.10080279,\n",
       "            0.09977448,  0.10075239],\n",
       "          [ 0.12205541,  0.15373228,  0.09877944, ...,  0.10080279,\n",
       "            0.09977448,  0.10075239],\n",
       "          ..., \n",
       "          [ 0.09939149,  0.09958259,  0.09877944, ...,  0.10080279,\n",
       "            0.09977448,  0.10075239],\n",
       "          [ 0.09939149,  0.09958259,  0.09877944, ...,  0.10080279,\n",
       "            0.09977448,  0.10075239],\n",
       "          [ 0.09939149,  0.09958259,  0.09877944, ...,  0.10080279,\n",
       "            0.09977448,  0.10075239]],\n",
       " \n",
       "         ..., \n",
       "         [[ 0.09939149,  0.09958259,  0.09877944, ...,  0.10080279,\n",
       "            0.09977448,  0.10075239],\n",
       "          [ 0.09939149,  0.09958259,  0.09877944, ...,  0.10080279,\n",
       "            0.09977448,  0.10075239],\n",
       "          [ 0.09939149,  0.09958259,  0.09877944, ...,  0.10080279,\n",
       "            0.09977448,  0.10075239],\n",
       "          ..., \n",
       "          [ 0.09939149,  0.09958259,  0.09877944, ...,  0.10080279,\n",
       "            0.09977448,  0.10075239],\n",
       "          [ 0.09939149,  0.09958259,  0.09877944, ...,  0.10080279,\n",
       "            0.09977448,  0.10075239],\n",
       "          [ 0.09939149,  0.09958259,  0.09877944, ...,  0.10080279,\n",
       "            0.09977448,  0.10075239]],\n",
       " \n",
       "         [[ 0.09939149,  0.09958259,  0.09877944, ...,  0.10080279,\n",
       "            0.09977448,  0.10075239],\n",
       "          [ 0.09939149,  0.09958259,  0.09877944, ...,  0.10080279,\n",
       "            0.09977448,  0.10075239],\n",
       "          [ 0.09939149,  0.09958259,  0.09877944, ...,  0.10080279,\n",
       "            0.09977448,  0.10075239],\n",
       "          ..., \n",
       "          [ 0.09939149,  0.09958259,  0.09877944, ...,  0.10080279,\n",
       "            0.09977448,  0.10075239],\n",
       "          [ 0.09939149,  0.09958259,  0.09877944, ...,  0.10080279,\n",
       "            0.09977448,  0.10075239],\n",
       "          [ 0.09939149,  0.09958259,  0.09877944, ...,  0.10080279,\n",
       "            0.09977448,  0.10075239]],\n",
       " \n",
       "         [[ 0.09939149,  0.09958259,  0.09877944, ...,  0.10080279,\n",
       "            0.09977448,  0.10075239],\n",
       "          [ 0.09939149,  0.09958259,  0.09877944, ...,  0.10080279,\n",
       "            0.09977448,  0.10075239],\n",
       "          [ 0.09939149,  0.09958259,  0.09877944, ...,  0.10080279,\n",
       "            0.09977448,  0.10075239],\n",
       "          ..., \n",
       "          [ 0.09939149,  0.09958259,  0.09877944, ...,  0.10080279,\n",
       "            0.09977448,  0.10075239],\n",
       "          [ 0.09939149,  0.09958259,  0.09877944, ...,  0.10080279,\n",
       "            0.09977448,  0.10075239],\n",
       "          [ 0.09939149,  0.09958259,  0.09877944, ...,  0.10080279,\n",
       "            0.09977448,  0.10075239]]]], dtype=float32),\n",
       " array([[[[  3.12498361e-02,   1.22079104e-01,  -2.55459130e-01, ...,\n",
       "            -1.16682589e-01,   2.90123578e-02,   3.25664788e-01],\n",
       "          [ -4.42297310e-02,   2.42053524e-01,  -2.34554246e-01, ...,\n",
       "            -2.17703253e-01,   7.18827695e-02,   3.67510796e-01],\n",
       "          [ -4.55929041e-02,   2.83077285e-02,  -9.67542231e-02, ...,\n",
       "            -2.59209692e-01,   7.01335892e-02,   3.05365324e-01],\n",
       "          ..., \n",
       "          [  2.40678862e-02,   3.00208330e-02,  -6.19388819e-02, ...,\n",
       "            -2.64634848e-01,  -4.75851372e-02,   2.74725765e-01],\n",
       "          [  1.28603950e-02,   1.66705847e-02,  -2.55885767e-03, ...,\n",
       "            -2.74247646e-01,  -4.71019596e-02,   2.44136959e-01],\n",
       "          [ -8.58482122e-02,  -3.84151861e-02,   6.89789057e-02, ...,\n",
       "            -3.09384406e-01,  -7.16452897e-02,   1.73640579e-01]],\n",
       " \n",
       "         [[ -4.59587872e-02,   1.06235072e-01,  -2.51467377e-01, ...,\n",
       "            -3.87848392e-02,   5.18031530e-02,   2.97640443e-01],\n",
       "          [ -1.13221541e-01,   2.16454446e-01,  -2.34684289e-01, ...,\n",
       "            -7.49793649e-02,   7.61765689e-02,   3.37145686e-01],\n",
       "          [ -6.59468919e-02,  -2.44174153e-01,  -1.86612472e-01, ...,\n",
       "            -2.86926419e-01,  -1.42171249e-01,   2.58734375e-01],\n",
       "          ..., \n",
       "          [  5.23634255e-03,  -1.72343016e-01,  -6.06317595e-02, ...,\n",
       "            -2.33197704e-01,  -4.01742131e-01,   2.98458219e-01],\n",
       "          [  6.35624900e-02,  -1.55953690e-01,   7.76236504e-02, ...,\n",
       "            -2.86898345e-01,  -2.85313189e-01,   2.63436258e-01],\n",
       "          [ -2.31930092e-02,  -1.73740804e-01,   9.72561613e-02, ...,\n",
       "            -2.69647300e-01,  -1.93907142e-01,   2.59255320e-01]],\n",
       " \n",
       "         [[ -6.52289242e-02,   1.29202046e-02,  -1.05262250e-01, ...,\n",
       "            -3.91859598e-02,   6.40620142e-02,   1.70141533e-01],\n",
       "          [ -1.45387799e-01,   1.66199863e-01,   7.07626343e-03, ...,\n",
       "            -1.06338397e-01,   5.81831820e-02,   2.88429916e-01],\n",
       "          [ -2.96593368e-01,  -2.52070576e-01,   2.61880189e-01, ...,\n",
       "            -4.49744821e-01,  -1.13858961e-01,   4.45483506e-01],\n",
       "          ..., \n",
       "          [ -3.86191845e-01,  -2.91378379e-01,   7.00351447e-02, ...,\n",
       "            -3.44047666e-01,  -2.48537570e-01,   3.74207079e-01],\n",
       "          [ -2.83306450e-01,  -2.84865022e-01,   1.12190165e-01, ...,\n",
       "            -4.69452977e-01,  -2.26773649e-01,   6.77347779e-02],\n",
       "          [ -1.93869144e-01,  -2.74515867e-01,   2.14112848e-01, ...,\n",
       "            -3.24775577e-01,  -2.49865159e-01,   1.92516863e-01]],\n",
       " \n",
       "         ..., \n",
       "         [[ -6.90983534e-02,  -2.54997574e-02,  -7.16765523e-02, ...,\n",
       "            -9.61596593e-02,  -2.18542162e-02,   9.05939341e-02],\n",
       "          [ -2.17815831e-01,   6.72228038e-02,  -3.66473198e-02, ...,\n",
       "            -2.23838195e-01,  -8.48582536e-02,   1.94591150e-01],\n",
       "          [ -7.66248554e-02,  -2.51207769e-01,   6.08182326e-03, ...,\n",
       "            -1.55020863e-01,  -1.16907410e-01,   2.21449837e-01],\n",
       "          ..., \n",
       "          [ -2.53159627e-02,  -2.13607848e-01,   2.68245399e-01, ...,\n",
       "            -3.77773643e-01,  -7.31406361e-02,   3.20843399e-01],\n",
       "          [ -1.63873225e-01,  -2.70157367e-01,   1.40484273e-01, ...,\n",
       "            -4.38328683e-01,  -1.25117347e-01,   2.12837219e-01],\n",
       "          [ -1.92033008e-01,  -2.46800900e-01,   2.24567354e-01, ...,\n",
       "            -3.92321616e-01,  -1.59981266e-01,   2.05517858e-01]],\n",
       " \n",
       "         [[  6.22552335e-02,  -1.19843036e-02,  -4.00249884e-02, ...,\n",
       "            -6.89465031e-02,   2.44859513e-02,  -1.87410712e-02],\n",
       "          [ -9.07570422e-02,   7.89090544e-02,   6.96735084e-03, ...,\n",
       "            -7.20336139e-02,  -2.66715884e-04,   1.37956128e-01],\n",
       "          [ -2.85989642e-02,  -1.49798840e-01,   1.70186996e-01, ...,\n",
       "             7.29121864e-02,  -1.67500779e-01,   8.36830065e-02],\n",
       "          ..., \n",
       "          [ -1.51553452e-02,  -1.29083529e-01,   2.52557248e-01, ...,\n",
       "            -1.47157058e-01,   3.60848755e-03,   1.73786223e-01],\n",
       "          [ -1.09719083e-01,  -1.67859346e-01,   1.33249089e-01, ...,\n",
       "            -2.71309197e-01,   6.43897057e-02,   1.58813730e-01],\n",
       "          [ -1.43824100e-01,  -1.33125648e-01,   2.68563747e-01, ...,\n",
       "            -1.59621581e-01,   1.25828385e-02,   1.73932731e-01]],\n",
       " \n",
       "         [[ -6.53032362e-02,  -3.18984985e-02,  -8.76399130e-03, ...,\n",
       "             3.86457443e-02,  -2.04321556e-02,  -1.70695126e-01],\n",
       "          [ -1.74893543e-01,  -1.52537972e-02,   8.83364677e-03, ...,\n",
       "            -4.93304953e-02,  -1.00631677e-01,  -3.99254486e-02],\n",
       "          [ -5.13649881e-02,  -1.43877119e-01,   4.13248777e-01, ...,\n",
       "             1.28748864e-02,  -5.81405088e-02,  -2.15467364e-02],\n",
       "          ..., \n",
       "          [ -1.09833032e-01,  -1.49483234e-01,   2.46660411e-01, ...,\n",
       "            -1.42641753e-01,  -1.19262941e-01,   3.21782753e-02],\n",
       "          [ -2.06386849e-01,  -1.64914131e-01,   1.85984284e-01, ...,\n",
       "            -3.26157331e-01,  -4.96607311e-02,   7.71961287e-02],\n",
       "          [ -1.23932913e-01,  -1.59906894e-01,   2.13293537e-01, ...,\n",
       "            -2.22138733e-01,  -1.17305920e-01,   1.30199730e-01]]]], dtype=float32),\n",
       " array([[[[ 0.13205856,  0.22095555,  0.        , ...,  0.        ,\n",
       "            0.12945992,  0.42472419],\n",
       "          [ 0.05657899,  0.34092999,  0.        , ...,  0.        ,\n",
       "            0.17233033,  0.4665702 ],\n",
       "          [ 0.05521581,  0.12718418,  0.00283616, ...,  0.        ,\n",
       "            0.17058116,  0.40442473],\n",
       "          ..., \n",
       "          [ 0.1248766 ,  0.12889728,  0.0376515 , ...,  0.        ,\n",
       "            0.05286243,  0.37378517],\n",
       "          [ 0.11366911,  0.11554704,  0.09703153, ...,  0.        ,\n",
       "            0.05334561,  0.34319636],\n",
       "          [ 0.01496051,  0.06046127,  0.1685693 , ...,  0.        ,\n",
       "            0.02880228,  0.27269998]],\n",
       " \n",
       "         [[ 0.05484993,  0.20511153,  0.        , ...,  0.06201988,\n",
       "            0.15225072,  0.39669985],\n",
       "          [ 0.        ,  0.31533089,  0.        , ...,  0.02582536,\n",
       "            0.17662413,  0.43620509],\n",
       "          [ 0.03486183,  0.        ,  0.        , ...,  0.        ,\n",
       "            0.        ,  0.35779378],\n",
       "          ..., \n",
       "          [ 0.10604506,  0.        ,  0.03895862, ...,  0.        ,\n",
       "            0.        ,  0.39751762],\n",
       "          [ 0.16437121,  0.        ,  0.17721403, ...,  0.        ,\n",
       "            0.        ,  0.36249566],\n",
       "          [ 0.07761571,  0.        ,  0.19684654, ...,  0.        ,\n",
       "            0.        ,  0.35831472]],\n",
       " \n",
       "         [[ 0.03557979,  0.11179666,  0.        , ...,  0.06161876,\n",
       "            0.16450958,  0.26920095],\n",
       "          [ 0.        ,  0.26507631,  0.10666665, ...,  0.        ,\n",
       "            0.15863074,  0.38748932],\n",
       "          [ 0.        ,  0.        ,  0.36147058, ...,  0.        ,\n",
       "            0.        ,  0.54454291],\n",
       "          ..., \n",
       "          [ 0.        ,  0.        ,  0.16962552, ...,  0.        ,\n",
       "            0.        ,  0.47326648],\n",
       "          [ 0.        ,  0.        ,  0.21178055, ...,  0.        ,\n",
       "            0.        ,  0.16679418],\n",
       "          [ 0.        ,  0.        ,  0.31370324, ...,  0.        ,\n",
       "            0.        ,  0.29157627]],\n",
       " \n",
       "         ..., \n",
       "         [[ 0.03171036,  0.0733767 ,  0.02791383, ...,  0.00464506,\n",
       "            0.07859335,  0.18965334],\n",
       "          [ 0.        ,  0.16609925,  0.06294306, ...,  0.        ,\n",
       "            0.01558931,  0.29365057],\n",
       "          [ 0.02418386,  0.        ,  0.10567221, ...,  0.        ,\n",
       "            0.        ,  0.32050925],\n",
       "          ..., \n",
       "          [ 0.07549275,  0.        ,  0.36783579, ...,  0.        ,\n",
       "            0.02730693,  0.4199028 ],\n",
       "          [ 0.        ,  0.        ,  0.24007466, ...,  0.        ,\n",
       "            0.        ,  0.31189662],\n",
       "          [ 0.        ,  0.        ,  0.32415774, ...,  0.        ,\n",
       "            0.        ,  0.30457726]],\n",
       " \n",
       "         [[ 0.16306394,  0.08689215,  0.0595654 , ...,  0.03185822,\n",
       "            0.12493352,  0.08031834],\n",
       "          [ 0.01005168,  0.17778552,  0.10655773, ...,  0.02877111,\n",
       "            0.10018085,  0.23701555],\n",
       "          [ 0.07220975,  0.        ,  0.26977739, ...,  0.1737169 ,\n",
       "            0.        ,  0.18274242],\n",
       "          ..., \n",
       "          [ 0.08565337,  0.        ,  0.35214764, ...,  0.        ,\n",
       "            0.10405605,  0.27284563],\n",
       "          [ 0.        ,  0.        ,  0.23283947, ...,  0.        ,\n",
       "            0.16483727,  0.25787315],\n",
       "          [ 0.        ,  0.        ,  0.36815414, ...,  0.        ,\n",
       "            0.1130304 ,  0.27299213]],\n",
       " \n",
       "         [[ 0.03550548,  0.06697796,  0.09082639, ...,  0.13945046,\n",
       "            0.08001541,  0.        ],\n",
       "          [ 0.        ,  0.08362266,  0.10842403, ...,  0.05147423,\n",
       "            0.        ,  0.05913396],\n",
       "          [ 0.04944373,  0.        ,  0.51283914, ...,  0.11367961,\n",
       "            0.04230706,  0.07751267],\n",
       "          ..., \n",
       "          [ 0.        ,  0.        ,  0.3462508 , ...,  0.        ,\n",
       "            0.        ,  0.13123769],\n",
       "          [ 0.        ,  0.        ,  0.28557467, ...,  0.        ,\n",
       "            0.05078683,  0.17625554],\n",
       "          [ 0.        ,  0.        ,  0.31288391, ...,  0.        ,\n",
       "            0.        ,  0.22925913]]]], dtype=float32),\n",
       " array([[[[  1.32058561e-01,   3.40929985e-01,   0.00000000e+00, ...,\n",
       "             6.20198846e-02,   1.76624134e-01,   4.66570199e-01],\n",
       "          [  6.91667572e-02,   1.38982743e-01,   2.96207666e-02, ...,\n",
       "             0.00000000e+00,   1.70581162e-01,   4.16702300e-01],\n",
       "          [  1.02400549e-01,   1.73016980e-01,   1.65953189e-02, ...,\n",
       "             0.00000000e+00,   3.55087742e-02,   4.15620953e-01],\n",
       "          ..., \n",
       "          [  1.31447658e-01,   1.28897280e-01,   3.76515016e-02, ...,\n",
       "             0.00000000e+00,   5.28624281e-02,   3.80382121e-01],\n",
       "          [  1.24876603e-01,   1.28897280e-01,   3.89586240e-02, ...,\n",
       "             0.00000000e+00,   5.28624281e-02,   3.97517622e-01],\n",
       "          [  1.64371207e-01,   1.15547039e-01,   1.96846545e-01, ...,\n",
       "             0.00000000e+00,   5.33456057e-02,   3.62495661e-01]],\n",
       " \n",
       "         [[  1.03651978e-01,   2.96233743e-01,   1.06666647e-01, ...,\n",
       "             1.84965029e-01,   1.64509580e-01,   3.87489319e-01],\n",
       "          [  0.00000000e+00,   2.01469213e-01,   3.61470580e-01, ...,\n",
       "             0.00000000e+00,   2.06284896e-02,   7.37897038e-01],\n",
       "          [  0.00000000e+00,   1.53332219e-01,   1.84071347e-01, ...,\n",
       "             0.00000000e+00,   0.00000000e+00,   8.50862265e-01],\n",
       "          ..., \n",
       "          [  0.00000000e+00,   0.00000000e+00,   2.48000994e-02, ...,\n",
       "             0.00000000e+00,   5.11667132e-02,   7.34414697e-01],\n",
       "          [  0.00000000e+00,   0.00000000e+00,   1.69625521e-01, ...,\n",
       "             0.00000000e+00,   8.24983418e-02,   6.30059600e-01],\n",
       "          [  0.00000000e+00,   0.00000000e+00,   3.68243068e-01, ...,\n",
       "             0.00000000e+00,   0.00000000e+00,   3.36422503e-01]],\n",
       " \n",
       "         [[  8.52309242e-02,   1.26175910e-01,   1.93217337e-01, ...,\n",
       "             1.42274797e-01,   2.37263560e-01,   3.04456532e-01],\n",
       "          [  1.65088847e-02,   0.00000000e+00,   4.69663233e-01, ...,\n",
       "             0.00000000e+00,   0.00000000e+00,   1.74989969e-01],\n",
       "          [  0.00000000e+00,   7.89411888e-02,   7.05371439e-01, ...,\n",
       "             0.00000000e+00,   0.00000000e+00,   2.66031802e-01],\n",
       "          ..., \n",
       "          [  0.00000000e+00,   3.86998877e-02,   5.01367092e-01, ...,\n",
       "             0.00000000e+00,   0.00000000e+00,   5.39307177e-01],\n",
       "          [  0.00000000e+00,   0.00000000e+00,   8.67751718e-01, ...,\n",
       "             0.00000000e+00,   0.00000000e+00,   6.47769988e-01],\n",
       "          [  1.93732470e-01,   0.00000000e+00,   5.16166866e-01, ...,\n",
       "             0.00000000e+00,   0.00000000e+00,   3.86180609e-01]],\n",
       " \n",
       "         ..., \n",
       "         [[  3.17103639e-02,   1.66099250e-01,   6.29430637e-02, ...,\n",
       "             4.64506447e-03,   7.85933509e-02,   2.93650568e-01],\n",
       "          [  0.00000000e+00,   1.23334453e-02,   2.17857301e-01, ...,\n",
       "             0.00000000e+00,   3.28877494e-02,   5.05410254e-01],\n",
       "          [  0.00000000e+00,   0.00000000e+00,   4.49081868e-01, ...,\n",
       "             4.83073667e-02,   6.17592782e-02,   4.99033868e-01],\n",
       "          ..., \n",
       "          [  0.00000000e+00,   0.00000000e+00,   8.86426747e-01, ...,\n",
       "             0.00000000e+00,   0.00000000e+00,   4.86941665e-01],\n",
       "          [  9.39395279e-02,   0.00000000e+00,   8.33452523e-01, ...,\n",
       "             0.00000000e+00,   0.00000000e+00,   7.17324972e-01],\n",
       "          [  1.46672919e-01,   1.92388892e-04,   4.01830226e-01, ...,\n",
       "             0.00000000e+00,   4.33883071e-02,   4.22885984e-01]],\n",
       " \n",
       "         [[  3.17103639e-02,   1.66099250e-01,   6.29430637e-02, ...,\n",
       "             4.64506447e-03,   7.85933509e-02,   2.93650568e-01],\n",
       "          [  2.79661268e-02,   2.12666020e-02,   3.82095903e-01, ...,\n",
       "             1.71450824e-01,   4.62017581e-02,   4.55732912e-01],\n",
       "          [  0.00000000e+00,   0.00000000e+00,   5.71844280e-01, ...,\n",
       "             0.00000000e+00,   1.24254122e-01,   4.36279207e-01],\n",
       "          ..., \n",
       "          [  0.00000000e+00,   0.00000000e+00,   7.88727641e-01, ...,\n",
       "             0.00000000e+00,   0.00000000e+00,   6.55769944e-01],\n",
       "          [  1.39941141e-01,   2.36056596e-02,   5.43037891e-01, ...,\n",
       "             0.00000000e+00,   2.73069292e-02,   4.19902802e-01],\n",
       "          [  0.00000000e+00,   0.00000000e+00,   3.24157745e-01, ...,\n",
       "             0.00000000e+00,   9.14235413e-03,   3.39138865e-01]],\n",
       " \n",
       "         [[  1.63063943e-01,   1.77785516e-01,   1.08424030e-01, ...,\n",
       "             1.39450461e-01,   1.24933518e-01,   2.37015545e-01],\n",
       "          [  2.15608031e-01,   9.75596234e-02,   5.47414899e-01, ...,\n",
       "             1.73716903e-01,   3.37492406e-01,   2.99709111e-01],\n",
       "          [  1.88678414e-01,   1.69053942e-01,   7.07077742e-01, ...,\n",
       "             3.18417400e-01,   1.14818521e-01,   1.52465194e-01],\n",
       "          ..., \n",
       "          [  2.09388524e-01,   1.09442800e-01,   7.45669544e-01, ...,\n",
       "             0.00000000e+00,   0.00000000e+00,   5.93659580e-01],\n",
       "          [  1.71830297e-01,   3.88881937e-02,   4.17079002e-01, ...,\n",
       "             0.00000000e+00,   1.13459393e-01,   3.37376863e-01],\n",
       "          [  0.00000000e+00,   0.00000000e+00,   3.68154138e-01, ...,\n",
       "             0.00000000e+00,   1.64837271e-01,   2.72992134e-01]]]], dtype=float32),\n",
       " array([[-2.44618654,  1.68480825,  2.46148634,  1.56563902,  0.85194457,\n",
       "          0.70931607, -1.88773799,  1.1284219 , -0.1219717 ,  0.06212598]], dtype=float32)]"
      ]
     },
     "execution_count": 30,
     "metadata": {},
     "output_type": "execute_result"
    }
   ],
   "source": [
    "btch_x, btch_y = mnist_data.test.next_batch(1)\n",
    "sess.run([conv,conv1,conv_p,conv_,conv2,conv_p2,yhat],feed_dict={x:btch_x,y:btch_y})"
   ]
  },
  {
   "cell_type": "code",
   "execution_count": null,
   "metadata": {
    "collapsed": true
   },
   "outputs": [],
   "source": []
  }
 ],
 "metadata": {
  "anaconda-cloud": {},
  "kernelspec": {
   "display_name": "Python [default]",
   "language": "python",
   "name": "python3"
  },
  "language_info": {
   "codemirror_mode": {
    "name": "ipython",
    "version": 3
   },
   "file_extension": ".py",
   "mimetype": "text/x-python",
   "name": "python",
   "nbconvert_exporter": "python",
   "pygments_lexer": "ipython3",
   "version": "3.5.2"
  }
 },
 "nbformat": 4,
 "nbformat_minor": 1
}
